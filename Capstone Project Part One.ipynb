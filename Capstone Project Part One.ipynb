{
    "nbformat_minor": 1, 
    "cells": [
        {
            "source": "# Capstone Project", 
            "cell_type": "markdown", 
            "metadata": {
                "collapsed": true
            }
        }, 
        {
            "source": "## Part One", 
            "cell_type": "markdown", 
            "metadata": {}
        }, 
        {
            "source": "### Introduction", 
            "cell_type": "markdown", 
            "metadata": {}
        }, 
        {
            "source": "I live in Tokyo. Tokyo has many subway stations, each of which has various features such as office districts, commercial districts and residential districts. Stations near the city center are convenient, but at the same time they need to pay a lot of housing. On the other hand, although the suburbs have cheap housing costs and spacious, there are also some inconveniences.", 
            "cell_type": "markdown", 
            "metadata": {}
        }, 
        {
            "source": "In this report, by clustering stations with similar characteristics, I will provide options to meet conflicting needs such as convenient downtown stations resembling your favorite suburban environment. ", 
            "cell_type": "markdown", 
            "metadata": {}
        }, 
        {
            "source": "### Data", 
            "cell_type": "markdown", 
            "metadata": {}
        }, 
        {
            "source": "#### Subway station locations", 
            "cell_type": "markdown", 
            "metadata": {}
        }, 
        {
            "source": "Obtain latitude and longitude data for each Tokyo Metro station from the following sites. Samples of the data are also described below. Although some items are described in Japanese, there is no problem in particular because id, latitude and longitude are used for analysis.", 
            "cell_type": "markdown", 
            "metadata": {}
        }, 
        {
            "source": "https://www.javadrive.jp/google-maps-javascript/data/index2.html", 
            "cell_type": "markdown", 
            "metadata": {}
        }, 
        {
            "source": "{\"id\":\"Y01\",\"sta\":\"\u548c\u5149\u5e02\u99c5\",\"url\":\"http://www.tokyometro.jp/rosen/eki/wakoshi/index.html\",\"addr\":\"\u57fc\u7389\u770c\u548c\u5149\u5e02\u672c\u753a4-6\",\"lat\":35.78855,\"lng\":139.612337}", 
            "cell_type": "markdown", 
            "metadata": {}
        }, 
        {
            "source": "#### Station characteristics", 
            "cell_type": "markdown", 
            "metadata": {}
        }, 
        {
            "source": "Foursquare will provide me with the venue data around the stations based on the latitude and longitude.", 
            "cell_type": "markdown", 
            "metadata": {}
        }
    ], 
    "metadata": {
        "kernelspec": {
            "display_name": "Python 3.5", 
            "name": "python3", 
            "language": "python"
        }, 
        "language_info": {
            "mimetype": "text/x-python", 
            "nbconvert_exporter": "python", 
            "version": "3.5.5", 
            "name": "python", 
            "file_extension": ".py", 
            "pygments_lexer": "ipython3", 
            "codemirror_mode": {
                "version": 3, 
                "name": "ipython"
            }
        }
    }, 
    "nbformat": 4
}